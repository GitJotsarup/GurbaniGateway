{
 "cells": [
  {
   "attachments": {},
   "cell_type": "markdown",
   "metadata": {},
   "source": [
    "# English to Punjabi Tool\n",
    "Use this tool to easily convert a dharna written in transliterated english into the json file format with punjabi and english translations.\n",
    "\n",
    "Use [google input tools](https://www.google.com/inputtools/try/) to make corrections to the punjabi when necessary."
   ]
  },
  {
   "cell_type": "code",
   "execution_count": 1,
   "metadata": {},
   "outputs": [],
   "source": [
    "import openai\n",
    "openai.api_key = open('API_KEY.txt', 'r').read() # file that contains the API key\n",
    "\n",
    "import time\n",
    "from tqdm.notebook import tqdm"
   ]
  },
  {
   "cell_type": "code",
   "execution_count": 2,
   "metadata": {},
   "outputs": [],
   "source": [
    "def get_completion(prompt, model='gpt-3.5-turbo'):\n",
    "    \"\"\"\n",
    "    Helper function to pass a single prompt to the model.\n",
    "    \"\"\"\n",
    "    messages = [{'role': 'user', 'content': prompt}]\n",
    "    response = openai.ChatCompletion.create(\n",
    "        model=model,\n",
    "        messages=messages,\n",
    "        temperature=0, # degree of randomness in model output\n",
    "    )\n",
    "    return response.choices[0].message['content']"
   ]
  },
  {
   "cell_type": "code",
   "execution_count": 3,
   "metadata": {},
   "outputs": [],
   "source": [
    "# String of dharnas seperated by a blank line\n",
    "dharnas_text = f\"\"\"\\\n",
    "PANJA CHORA NE GHAR TERA LUTEYA\n",
    "SUTEYA TU JAAG BANDEYA\n",
    "\n",
    "SADKE MAI JAAVA ONA TO JINA NU TERIYA LORA\n",
    "JINA NU TERIYA LORA ONA NU KADIA THORA\n",
    "\n",
    "DEEN DAYAL GARIB NIVAJ KILE VALE MAHARAJ\n",
    "DARSHAN DEVO SANGAT NU RAKHO BIRAD KI LAAJ\n",
    "\n",
    "MERI SEVA THORI JI SAHIB LEKHE LAE LEO\n",
    "\n",
    "LEKHA KARE TA KADE NAI GAT HONI RAKH LE GARIB JAANKE\n",
    "\n",
    "TERA NAAM GARIB NIVAJ BAKSH GUNAYA NU\n",
    "\n",
    "ASI TENU BULANDEYA RENARE\n",
    "BHAVE BOL KE BHAVE NA BOL PIYA\n",
    "TERE SAAMNE BEH BEH RO RO KE\n",
    "\n",
    "MITHA BOLNA TE NEO NEO CHALNA\n",
    "\n",
    "LAENA DENA KISMAT DA MUHO TE MITHA BOL\n",
    "\n",
    "MITHE MITHE JI BOL KILE VALE MAHI DE\n",
    "\n",
    "SATGUR MERA SHAH BANEA SARA JAG VANJARA HO GAYA\n",
    "\n",
    "JE TU RAB NAI TE RAB DAS KERA MERA EH BHULEKHA JAD DE\n",
    "\n",
    "BHALI APNI NABER TENU HOR NAAL KI\n",
    "\n",
    "SEVA KARLE NIMAANE JIND MERIYE HATH PAIR DITE RAB NE\n",
    "\n",
    "BAKSHI GUR MEREYA SEVA TE SIMRAN MENU\n",
    "\"\"\""
   ]
  },
  {
   "cell_type": "code",
   "execution_count": 4,
   "metadata": {},
   "outputs": [],
   "source": [
    "def generate_prompt(dharna):\n",
    "    prompt = f\"\"\"\\\n",
    "Your job is to transliterate the following text into gurmukhi script and then translate the gurmukhi into english. \\\n",
    "First, transliterate the text delimited by triple backticks into gurmukhi script. Replace the <\\n> characters with <\\\\n> \\\n",
    "Next, translate the gurmukhi into english. Replace the <\\n> characters with <\\\\n> \\\n",
    "The output text should be in JSON format. Do not output the word output. Do not include curly brackets.\n",
    "\n",
    "The following is an example of input and output:\n",
    "Input: \\\n",
    "Jaane se pehle aao gale se laga to loon\\nKeson ko kanghi kar doon zara muh dhula to loon\\nPyaare seron pe nanhi si kalgi saja to loon\\nMarne se pehle tum ko main dulha bana to loon\"\n",
    "Output: \\\n",
    "\"title\":\"ਜਾਨੇ ਸੇ ਪਹਲੇ ਆਓ ਗਲੇ ਸੇ ਲਗਾ ਤੋ ਲੂੰ\",\n",
    "\"punjabi\":\"ਜਾਨੇ ਸੇ ਪਹਲੇ ਆਓ ਗਲੇ ਸੇ ਲਗਾ ਤੋ ਲੂੰ ।।\\\\nਕੇਸੋਂ ਕੋ ਕੰਘੀ ਕਰ ਦੂੰ ਜ਼ਰਾ ਮੂੰਹ ਧੁਲਾ ਤੋ ਲੂੰ ।।\\\\nਪਯਾਰੇ ਸਰੋਂ ਪੇ ਨਨ੍ਹੀ ਸੀ ਕਲਗ਼ੀ ਸਜਾ ਤੋ ਲੂੰ ।।\\\\nਮਰਨੇ ਸੇ ਪਹਲੇ ਤੁਮ ਕੋ ਮੈਂ ਦੂਲ੍ਹਾ ਬਨਾ ਤੋ ਲੂੰ ।।\",\n",
    "\"english\":\"pending\",\n",
    "\"transliteration\":\"Jaane se pehle aao gale se laga to loon\\\\nKeson ko kanghi kar doon zara muh dhula to loon\\\\nPyaare seron pe nanhi si kalgi saja to loon\\\\nMarne se pehle tum ko main dulha bana to loon\"\n",
    "\n",
    "Here is your input text: ```{dharna}```\n",
    "\"\"\"\n",
    "    return prompt"
   ]
  },
  {
   "cell_type": "code",
   "execution_count": 5,
   "metadata": {},
   "outputs": [
    {
     "name": "stdout",
     "output_type": "stream",
     "text": [
      "Input: \n",
      "panja chora ne ghar tera luteya\n",
      "suteya tu jaag bandeya\n",
      "Output: \n",
      "\"title\":\"ਪੰਜਾ ਚੋਰਾ ਨੇ ਘਰ ਤੇਰਾ ਲੁਟਿਆ\",\n",
      "\"punjabi\":\"ਪੰਜਾ ਚੋਰਾ ਨੇ ਘਰ ਤੇਰਾ ਲੁਟਿਆ ।।\\nਸੁਤਿਆ ਤੂੰ ਜਾਗ ਬੰਦੇਆ ।।\",\n",
      "\"english\":\"The five thieves have looted your house\\nYou are asleep, wake up O human!\",\n",
      "\"transliteration\":\"Panja chora ne ghar tera luteya\\nSuteya tu jaag bandeya\"\n"
     ]
    }
   ],
   "source": [
    "# example use\n",
    "dharnas = dharnas_text.lower().split(\"\\n\\n\")\n",
    "print(f\"Input: \\n{dharnas[0]}\")\n",
    "\n",
    "prompt = generate_prompt(dharnas[0])\n",
    "response = get_completion(prompt)\n",
    "print(f\"Output: \\n{response}\")"
   ]
  },
  {
   "cell_type": "code",
   "execution_count": 6,
   "metadata": {},
   "outputs": [
    {
     "data": {
      "application/vnd.jupyter.widget-view+json": {
       "model_id": "376bb37a410f499093bd65e1a01496e7",
       "version_major": 2,
       "version_minor": 0
      },
      "text/plain": [
       "  0%|          | 0/15 [00:00<?, ?it/s]"
      ]
     },
     "metadata": {},
     "output_type": "display_data"
    }
   ],
   "source": [
    "responses = []\n",
    "for dharna in tqdm(dharnas):\n",
    "    prompt = generate_prompt(dharna)\n",
    "    response = get_completion(prompt)\n",
    "    responses.append(response)\n",
    "    time.sleep(5)"
   ]
  },
  {
   "cell_type": "code",
   "execution_count": 15,
   "metadata": {},
   "outputs": [
    {
     "name": "stdout",
     "output_type": "stream",
     "text": [
      "  {\n",
      "    \"title\":\"ਪੰਜਾ ਚੋਰਾ ਨੇ ਘਰ ਤੇਰਾ ਲੁਟਿਆ\",\n",
      "    \"punjabi\":\"ਪੰਜਾ ਚੋਰਾ ਨੇ ਘਰ ਤੇਰਾ ਲੁਟਿਆ ।।\\nਸੁਤਿਆ ਤੂੰ ਜਾਗ ਬੰਦੇਆ ।।\",\n",
      "    \"english\":\"The five thieves have looted your house\\nYou are asleep, wake up, O human!\",\n",
      "    \"transliteration\":\"Panja chora ne ghar tera luteya\\nSuteya tu jaag bandeya\"\n",
      "  },\n",
      "  {\n",
      "    \"title\":\"ਸੜਕੇ ਮੈ ਜਾਵਾ ਓਨਾ ਤੋ ਜਿਨਾ ਨੂੰ ਤੇਰਿਆ ਲੋੜਾ\",\n",
      "    \"punjabi\":\"ਸੜਕੇ ਮੈ ਜਾਵਾ ਓਨਾ ਤੋ ਜਿਨਾ ਨੂੰ ਤੇਰਿਆ ਲੋੜਾ ।।\\nਜਿਨਾ ਨੂੰ ਤੇਰਿਆ ਲੋੜਾ ਓਨਾ ਨੂੰ ਕੜਿਆ ਥੋੜਾ ।।\",\n",
      "    \"english\":\"Before I go on the roads, I need the love of those whom I care for\\nThose whom I care for, I need a little more love from them\",\n",
      "    \"transliteration\":\"sadke mai jaava ona to jina nu teriya lora\\njina nu teriya lora ona nu kadia thora\"\n",
      "  },\n",
      "  {\n",
      "    \"title\":\"ਦੀਨ ਦਯਾਲ ਗਰੀਬ ਨਿਵਾਜ ਕਿਲੇ ਵਾਲੇ ਮਹਾਰਾਜ\",\n",
      "    \"punjabi\":\"ਦੀਨ ਦਯਾਲ ਗਰੀਬ ਨਿਵਾਜ ਕਿਲੇ ਵਾਲੇ ਮਹਾਰਾਜ ।।\\nਦਰਸਨ ਦੇਵੋ ਸੰਗਤ ਨੂੰ ਰਾਖੋ ਬਿਰਾਦ ਕੀ ਲਾਜ ।।\",\n",
      "    \"english\":\"O compassionate and merciful Maharaj of the fort of the poor, please bless us with your vision and protect the honor of your devotees.\",\n",
      "    \"transliteration\":\"Deen dayal garib nivaj kile vale maharaj\\nDarshan devo sangat nu rakho birad ki laaj\"\n",
      "  },\n",
      "  {\n",
      "    \"title\":\"ਮੇਰੀ ਸੇਵਾ ਥੋੜੀ ਜੀ ਸਾਹਿਬ ਲੇਖੇ ਲਈ ਲਿਓ\",\n",
      "    \"punjabi\":\"ਮੇਰੀ ਸੇਵਾ ਥੋੜੀ ਜੀ ਸਾਹਿਬ ਲੇਖੇ ਲਈ ਲਿਓ ।।\",\n",
      "    \"english\":\"Take my humble service, O Lord, and accept it.\",\n",
      "    \"transliteration\":\"meri seva thori ji sahib lekhe lae leo\"\n",
      "  },\n",
      "  {\n",
      "    \"title\":\"ਲੇਖਾ ਕਰੇ ਤਾ ਕਦੇ ਨਹੀਂ ਗਟ ਹੋਣੀ ਰੱਖ ਲੇ ਗਰੀਬ ਜਾਨਕੇ\",\n",
      "    \"punjabi\":\"ਲੇਖਾ ਕਰੇ ਤਾ ਕਦੇ ਨਹੀਂ ਗਟ ਹੋਣੀ ਰੱਖ ਲੇ ਗਰੀਬ ਜਾਨਕੇ\",\n",
      "    \"english\":\"If you keep an account, you will never be in trouble. Remember the poor.\",\n",
      "    \"transliteration\":\"lekha kare ta kade nai gat honi rakh le garib jaanke\"\n",
      "  },\n",
      "  {\n",
      "    \"title\":\"ਤੇਰਾ ਨਾਮ ਗਰੀਬ ਨਿਵਾਜ ਬਖਸ਼ ਗੁਣਾਇਾ ਨੂੰ\",\n",
      "    \"punjabi\":\"ਤੇਰਾ ਨਾਮ ਗਰੀਬ ਨਿਵਾਜ ਬਖਸ਼ ਗੁਣਾਇਾ ਨੂੰ\",\n",
      "    \"english\":\"O Granter of boons to the poor, I seek Your Name to bless me with virtues.\",\n",
      "    \"transliteration\":\"tera naam garib nivaj baksh gunaya nu\"\n",
      "  },\n",
      "  {\n",
      "    \"title\":\"ਅਸੀ ਤੇਨੂੰ ਬੁਲੰਦੀਆਂ ਰੇਨਾਰੇ\",\n",
      "    \"punjabi\":\"ਅਸੀ ਤੇਨੂੰ ਬੁਲੰਦੀਆਂ ਰੇਨਾਰੇ ।।\\nਭਾਵੇ ਬੋਲ ਕੇ ਭਾਵੇ ਨਾ ਬੋਲ ਪਿਆ ।।\\nਤੇਰੇ ਸਾਮਨੇ ਬਹ ਬਹ ਰੋ ਰੋ ਕੇ ।।\",\n",
      "    \"english\":\"We call out to you with great enthusiasm\\nWhether we speak or remain silent, beloved\\nWe weep and weep before you\",\n",
      "    \"transliteration\":\"asi tenu bulandeya renare\\nbhave bol ke bhave na bol piya\\ntere saamne beh beh ro ro ke\"\n",
      "  },\n",
      "  {\n",
      "    \"title\":\"ਮੀਠਾ ਬੋਲਣਾ ਤੇ ਨੇਓ ਨੇਓ ਚਲਣਾ\",\n",
      "    \"punjabi\":\"ਮੀਠਾ ਬੋਲਣਾ ਤੇ ਨੇਓ ਨੇਓ ਚਲਣਾ\",\n",
      "    \"english\":\"Speaking sweetly and walking slowly\",\n",
      "    \"transliteration\":\"mitha bolna te neo neo chalna\"\n",
      "  },\n",
      "  {\n",
      "    \"title\":\"ਲੈਣਾ ਦੇਣਾ ਕਿਸਮਤ ਦਾ ਮੁਹੋ ਤੇ ਮਿੱਠਾ ਬੋਲ\",\n",
      "    \"punjabi\":\"ਲੈਣਾ ਦੇਣਾ ਕਿਸਮਤ ਦਾ ਮੁਹੋ ਤੇ ਮਿੱਠਾ ਬੋਲ\",\n",
      "    \"english\":\"The give and take of fate, and sweet words on the lips.\",\n",
      "    \"transliteration\":\"laena dena kismat da muho te mitha bol\"\n",
      "  },\n",
      "  {\n",
      "    \"title\":\"ਮਿੱਠੇ ਮਿੱਠੇ ਜੀ ਬੋਲ ਕਿਲੇ ਵਾਲੇ ਮਾਹੀ ਦੇ\",\n",
      "    \"punjabi\":\"ਮਿੱਠੇ ਮਿੱਠੇ ਜੀ ਬੋਲ ਕਿਲੇ ਵਾਲੇ ਮਾਹੀ ਦੇ\",\n",
      "    \"english\":\"Sweetly sweetly speak, O dwellers of the fort of Mahi\",\n",
      "    \"transliteration\":\"mithe mithe ji bol kile vale mahi de\"\n",
      "  },\n",
      "  {\n",
      "    \"title\":\"ਸਤਿਗੁਰ ਮੇਰਾ ਸਾਹ ਬਣਿਆ ਸਾਰਾ ਜਗ ਵੰਜਾਰਾ ਹੋ ਗਿਆ\",\n",
      "    \"punjabi\":\"ਸਤਿਗੁਰ ਮੇਰਾ ਸਾਹ ਬਣਿਆ ਸਾਰਾ ਜਗ ਵੰਜਾਰਾ ਹੋ ਗਿਆ\",\n",
      "    \"english\":\"My true Guru has become my king, and the whole world has become a wanderer.\",\n",
      "    \"transliteration\":\"satgur mera shah banea sara jag vanjara ho gaya\"\n",
      "  },\n",
      "  {\n",
      "    \"title\":\"ਜੇ ਤੂੰ ਰਬ ਨਹੀਂ ਤੇ ਰਬ ਦਾਸ ਕੇਰਾ ਮੇਰਾ ਏਹ ਭੁਲੇਖਾ ਜਦ ਦੇ\",\n",
      "    \"punjabi\":\"ਜੇ ਤੂੰ ਰਬ ਨਹੀਂ ਤੇ ਰਬ ਦਾਸ ਕੇਰਾ ਮੇਰਾ ਏਹ ਭੁਲੇਖਾ ਜਦ ਦੇ\",\n",
      "    \"english\":\"If you are not God, then tell me which God's servant am I? This is my forgotten account, from the time when...\",\n",
      "    \"transliteration\":\"je tu rab nai te rab das kera mera eh bhulekha jad de\"\n",
      "  },\n",
      "  {\n",
      "    \"title\":\"ਭਲੀ ਆਪਣੀ ਨਬਰ ਤੇਨੂੰ ਹੋਰ ਨਾਲ ਕੀ\",\n",
      "    \"punjabi\":\"ਭਲੀ ਆਪਣੀ ਨਬਰ ਤੇਨੂੰ ਹੋਰ ਨਾਲ ਕੀ\",\n",
      "    \"english\":\"What's better than having your own number?\",\n",
      "    \"transliteration\":\"bhali apni naber tenu hor naal ki\"\n",
      "  },\n",
      "  {\n",
      "    \"title\":\"ਸੇਵਾ ਕਰਲੇ ਨਿਮਾਨੇ ਜਿੰਦ ਮੇਰੀਏ ਹਥ ਪੈਰ ਦਿੱਤੇ ਰਬ ਨੇ\",\n",
      "    \"punjabi\":\"ਸੇਵਾ ਕਰਲੇ ਨਿਮਾਨੇ ਜਿੰਦ ਮੇਰੀਏ ਹਥ ਪੈਰ ਦਿੱਤੇ ਰਬ ਨੇ ।।\",\n",
      "    \"english\":\"Serve the humble, O my soul; God has given you hands and feet.\",\n",
      "    \"transliteration\":\"seva karle nimaane jind meriye hath pair dite rab ne\"\n",
      "  },\n",
      "  {\n",
      "    \"title\":\"ਬਖਸ਼ੀ ਗੁਰ ਮੇਰੇਯਾ ਸੇਵਾ ਤੇ ਸਿਮਰਨ ਮੇਨੂੰ\",\n",
      "    \"punjabi\":\"ਬਖਸ਼ੀ ਗੁਰ ਮੇਰੇਯਾ ਸੇਵਾ ਤੇ ਸਿਮਰਨ ਮੇਨੂੰ\",\n",
      "    \"english\":\"Forgive me, my Guru, and let me serve and remember you\",\n",
      "    \"transliteration\":\"bakshi gur mereya seva te simran menu\"\n",
      "  },\n"
     ]
    }
   ],
   "source": [
    "for response in responses:\n",
    "    print(\"  {\")\n",
    "    for line in response.split(\"\\n\"):\n",
    "        print(f\"    {line}\")\n",
    "    print(\"  },\")"
   ]
  }
 ],
 "metadata": {
  "kernelspec": {
   "display_name": "open-ai-env",
   "language": "python",
   "name": "python3"
  },
  "language_info": {
   "codemirror_mode": {
    "name": "ipython",
    "version": 3
   },
   "file_extension": ".py",
   "mimetype": "text/x-python",
   "name": "python",
   "nbconvert_exporter": "python",
   "pygments_lexer": "ipython3",
   "version": "3.10.11"
  },
  "orig_nbformat": 4
 },
 "nbformat": 4,
 "nbformat_minor": 2
}
